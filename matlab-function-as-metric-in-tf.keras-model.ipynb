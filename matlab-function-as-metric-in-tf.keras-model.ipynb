{
 "cells": [
  {
   "cell_type": "markdown",
   "metadata": {},
   "source": [
    "# Using matlab function as a metric in a tf.keras model\n",
    "\n",
    "Text about background and why this can be useful."
   ]
  },
  {
   "cell_type": "markdown",
   "metadata": {},
   "source": [
    "## Imports and config parameters"
   ]
  },
  {
   "cell_type": "code",
   "execution_count": 1,
   "metadata": {},
   "outputs": [],
   "source": [
    "import numpy as np\n",
    "import pathlib\n",
    "import tensorflow as tf\n",
    "import matlab.engine\n",
    "\n",
    "MATLAB_METRIC_DIR = 'matlab/'\n",
    "IMAGE_H, IMAGE_W = 28, 28\n",
    "IMAGE_CHANNELS = 1\n",
    "N_CLASSES = 10"
   ]
  },
  {
   "cell_type": "markdown",
   "metadata": {},
   "source": [
    "## Loading MNIST data"
   ]
  },
  {
   "cell_type": "code",
   "execution_count": 2,
   "metadata": {},
   "outputs": [
    {
     "name": "stdout",
     "output_type": "stream",
     "text": [
      "train_set_images: (60000, 28, 28) <class 'numpy.uint8'> min: 0 max: 255\n",
      "train_set_labels: (60000,) <class 'numpy.uint8'> min: 0 max: 9\n",
      "Preprocessing...\n",
      "Preprocessing...\n",
      "train_set_images: (60000, 28, 28) <class 'numpy.float32'> min: 0.0 max: 1.0\n",
      "train_set_labels: (60000, 10) <class 'numpy.float32'> min: 0.0 max: 1.0\n"
     ]
    }
   ],
   "source": [
    "data = tf.keras.datasets.mnist\n",
    "(train_images, train_labels), (test_images, test_labels) = data.load_data()\n",
    "\n",
    "print('train_set_images:', train_images.shape, type(train_images[0,0,0]), \n",
    "      'min:', np.min(train_images), 'max:', np.max(train_images))\n",
    "print('train_set_labels:', train_labels.shape,  type(train_labels[0]), \n",
    "      'min:', np.min(train_labels), 'max:', np.max(train_labels))\n",
    "\n",
    "def preprocess_mnist(images, labels):\n",
    "    print('Preprocessing...')\n",
    "    #One-hot-encoding of response variables 0-9\n",
    "    labels = tf.keras.utils.to_categorical(labels)\n",
    "    \n",
    "    # Zero padding: (28,28) -> (32,32)\n",
    "    #images = np.pad(images, [(0,0), (2,2), (2,2)], mode='constant', constant_values=0)\n",
    "    \n",
    "    # Rescaling: uint8(0-255) -> float32(0,1)\n",
    "    images = tf.image.convert_image_dtype(images, tf.float32).numpy()\n",
    "    return images, labels\n",
    "\n",
    "train_images, train_labels = preprocess_mnist(train_images, train_labels)\n",
    "test_images, test_labels = preprocess_mnist(test_images, test_labels)\n",
    "\n",
    "print('train_set_images:', train_images.shape, type(train_images[0,0,0]), \n",
    "      'min:', np.min(train_images), 'max:', np.max(train_images))\n",
    "print('train_set_labels:', train_labels.shape,  type(train_labels[0,0]), \n",
    "      'min:', np.min(train_labels), 'max:', np.max(train_labels))"
   ]
  },
  {
   "cell_type": "markdown",
   "metadata": {},
   "source": [
    "## Starting matlab.engine"
   ]
  },
  {
   "cell_type": "code",
   "execution_count": 3,
   "metadata": {},
   "outputs": [
    {
     "name": "stdout",
     "output_type": "stream",
     "text": [
      "Starting matlab.engine ...\n",
      "matlab.engine started\n"
     ]
    }
   ],
   "source": [
    "def start_matlab():\n",
    "    print('Starting matlab.engine ...')\n",
    "    eng = matlab.engine.start_matlab()\n",
    "    eng.cd(str(pathlib.Path(MATLAB_METRIC_DIR).resolve()))\n",
    "    if isinstance(eng, matlab.engine.matlabengine.MatlabEngine):\n",
    "        print('matlab.engine started')\n",
    "    return eng\n",
    "matlab_engine = start_matlab()"
   ]
  },
  {
   "cell_type": "markdown",
   "metadata": {},
   "source": [
    "## The matlab metrics functions\n",
    "\n",
    "Wrapper functions that allow interaction with the tensorflow computational graph."
   ]
  },
  {
   "cell_type": "code",
   "execution_count": 4,
   "metadata": {},
   "outputs": [],
   "source": [
    "def py_matlab_accuracy(y_true, y_pred):\n",
    "    y_true, y_pred = y_true.numpy(), y_pred.numpy()\n",
    "    y_true, y_pred = np.transpose(y_true), np.transpose(y_pred)\n",
    "    \n",
    "    y_true, y_pred = matlab.double(y_true.tolist()), matlab.double(y_pred.tolist())\n",
    "    metric = matlab_engine.accuracy(y_true, y_pred)\n",
    "    return tf.constant(metric, tf.float32)\n",
    "\n",
    "def matlab_accuracy(y_true, y_pred):\n",
    "    matlab_metric = tf.py_function(py_matlab_accuracy, [y_true, y_pred], [tf.float32])\n",
    "    return matlab_metric"
   ]
  },
  {
   "cell_type": "markdown",
   "metadata": {},
   "source": [
    "## A simple convolutional model"
   ]
  },
  {
   "cell_type": "code",
   "execution_count": 5,
   "metadata": {},
   "outputs": [],
   "source": [
    "def simple_conv_model():\n",
    "    input_layer = tf.keras.Input(shape=(IMAGE_H, IMAGE_W, IMAGE_CHANNELS))\n",
    "    x = tf.keras.layers.Conv2D(16, 5, activation=\"relu\")(input_layer)\n",
    "    x = tf.keras.layers.Conv2D(8, 5, activation=\"relu\")(x)\n",
    "    x = tf.keras.layers.Conv2D(4, 5, activation=\"relu\")(x)\n",
    "    x = tf.keras.layers.Conv2D(2, 5, activation=\"relu\")(x)\n",
    "    x = tf.keras.layers.Flatten()(x)\n",
    "    output_layer = tf.keras.layers.Dense(N_CLASSES, activation='softmax')(x)\n",
    "    return input_layer, output_layer\n",
    "\n",
    "input_layer, output_layer = simple_conv_model()\n",
    "model = tf.keras.Model(input_layer, output_layer)"
   ]
  },
  {
   "cell_type": "markdown",
   "metadata": {},
   "source": [
    "## Compiling our model with the matlab metric"
   ]
  },
  {
   "cell_type": "code",
   "execution_count": 6,
   "metadata": {},
   "outputs": [
    {
     "name": "stdout",
     "output_type": "stream",
     "text": [
      "Model: \"functional_1\"\n",
      "_________________________________________________________________\n",
      "Layer (type)                 Output Shape              Param #   \n",
      "=================================================================\n",
      "input_1 (InputLayer)         [(None, 28, 28, 1)]       0         \n",
      "_________________________________________________________________\n",
      "conv2d (Conv2D)              (None, 24, 24, 16)        416       \n",
      "_________________________________________________________________\n",
      "conv2d_1 (Conv2D)            (None, 20, 20, 8)         3208      \n",
      "_________________________________________________________________\n",
      "conv2d_2 (Conv2D)            (None, 16, 16, 4)         804       \n",
      "_________________________________________________________________\n",
      "conv2d_3 (Conv2D)            (None, 12, 12, 2)         202       \n",
      "_________________________________________________________________\n",
      "flatten (Flatten)            (None, 288)               0         \n",
      "_________________________________________________________________\n",
      "dense (Dense)                (None, 10)                2890      \n",
      "=================================================================\n",
      "Total params: 7,520\n",
      "Trainable params: 7,520\n",
      "Non-trainable params: 0\n",
      "_________________________________________________________________\n"
     ]
    }
   ],
   "source": [
    "model.compile(loss = 'categorical_crossentropy', optimizer = 'adam', metrics = ['accuracy', matlab_accuracy])\n",
    "model.summary()"
   ]
  },
  {
   "cell_type": "markdown",
   "metadata": {},
   "source": [
    "## Fitting the model, watching the reported metrics"
   ]
  },
  {
   "cell_type": "code",
   "execution_count": 7,
   "metadata": {},
   "outputs": [
    {
     "name": "stdout",
     "output_type": "stream",
     "text": [
      "Epoch 1/5\n",
      "200/200 [==============================] - 11s 56ms/step - loss: 0.8180 - accuracy: 0.7402 - matlab_accuracy: 0.7402 - val_loss: 0.3571 - val_accuracy: 0.8915 - val_matlab_accuracy: 0.8908\n",
      "Epoch 2/5\n",
      "200/200 [==============================] - 11s 55ms/step - loss: 0.3166 - accuracy: 0.9064 - matlab_accuracy: 0.9064 - val_loss: 0.2187 - val_accuracy: 0.9343 - val_matlab_accuracy: 0.9340\n",
      "Epoch 3/5\n",
      "200/200 [==============================] - 11s 55ms/step - loss: 0.2325 - accuracy: 0.9302 - matlab_accuracy: 0.9302 - val_loss: 0.1729 - val_accuracy: 0.9477 - val_matlab_accuracy: 0.9474\n",
      "Epoch 4/5\n",
      "200/200 [==============================] - 11s 54ms/step - loss: 0.1831 - accuracy: 0.9452 - matlab_accuracy: 0.9452 - val_loss: 0.1374 - val_accuracy: 0.9579 - val_matlab_accuracy: 0.9581\n",
      "Epoch 5/5\n",
      "200/200 [==============================] - 11s 55ms/step - loss: 0.1581 - accuracy: 0.9533 - matlab_accuracy: 0.9534 - val_loss: 0.1369 - val_accuracy: 0.9573 - val_matlab_accuracy: 0.9575\n"
     ]
    }
   ],
   "source": [
    "EPOCHS = 5\n",
    "history = model.fit(x=train_images, y=train_labels, \n",
    "          batch_size=64, epochs = EPOCHS, steps_per_epoch = 200,\n",
    "          validation_data=(test_images, test_labels))"
   ]
  },
  {
   "cell_type": "markdown",
   "metadata": {},
   "source": [
    "## What if you want full control of the metric calculation?\n",
    "\n",
    "Subclassing `tf.keras.Model` and customizing the `train_step()` and `test_step()` methods so that the matlab metric is only calculated when validating."
   ]
  },
  {
   "cell_type": "code",
   "execution_count": 8,
   "metadata": {},
   "outputs": [],
   "source": [
    "class CustomModel(tf.keras.Model):\n",
    "    def __init__(self, *args, **kwargs):\n",
    "        super(CustomModel, self).__init__(*args, **kwargs)\n",
    "        \n",
    "        self.matlab_accuracy_fn = None\n",
    "        self.matlab_accuracy_mean = None\n",
    "        \n",
    "    def compile(self, *args, **kwargs):\n",
    "        super(CustomModel, self).compile(*args, **kwargs)\n",
    "        self.matlab_accuracy_fn = matlab_accuracy\n",
    "        self.matlab_accuracy_mean = tf.keras.metrics.Mean(name='matlab_accuracy')\n",
    "        \n",
    "    def train_step(self, data):\n",
    "        super(CustomModel, self).train_step(data)\n",
    "        \n",
    "        metrics_to_report = {m.name: m.result() for m in self.metrics}\n",
    "        metrics_to_report.pop(self.matlab_accuracy_mean.name)\n",
    "        \n",
    "        return metrics_to_report\n",
    "\n",
    "    def test_step(self, data):\n",
    "        x, y = data\n",
    "        y_pred = self(x, training=False)\n",
    "        \n",
    "        self.compiled_loss(y, y_pred, regularization_losses=self.losses)\n",
    "        self.compiled_metrics.update_state(y, y_pred)\n",
    "        \n",
    "        matlab_accuracy_value = self.matlab_accuracy_fn(y, y_pred)\n",
    "        self.matlab_accuracy_mean.update_state(matlab_accuracy_value)\n",
    "        return {m.name: m.result() for m in self.metrics}\n",
    "    \n",
    "    @property\n",
    "    def metrics(self):\n",
    "        metrics = super().metrics\n",
    "        metrics.append(self.matlab_accuracy_mean)\n",
    "        return metrics"
   ]
  },
  {
   "cell_type": "markdown",
   "metadata": {},
   "source": [
    "## Building and compiling our customized model"
   ]
  },
  {
   "cell_type": "code",
   "execution_count": 9,
   "metadata": {},
   "outputs": [],
   "source": [
    "input_layer, output_layer = simple_conv_model()\n",
    "custom_model = CustomModel(input_layer, output_layer)\n",
    "custom_model.compile(loss = 'categorical_crossentropy', optimizer = 'adam', metrics = ['accuracy'])"
   ]
  },
  {
   "cell_type": "markdown",
   "metadata": {},
   "source": [
    "## Fitting the custom model, watching the reported metrics"
   ]
  },
  {
   "cell_type": "code",
   "execution_count": 10,
   "metadata": {},
   "outputs": [
    {
     "name": "stdout",
     "output_type": "stream",
     "text": [
      "Epoch 1/5\n",
      "100/100 [==============================] - 5s 51ms/step - loss: 1.2353 - accuracy: 0.5861 - val_loss: 0.5508 - val_accuracy: 0.8310 - val_matlab_accuracy: 0.8315\n",
      "Epoch 2/5\n",
      "100/100 [==============================] - 5s 49ms/step - loss: 0.5142 - accuracy: 0.8475 - val_loss: 0.3978 - val_accuracy: 0.8835 - val_matlab_accuracy: 0.8838\n",
      "Epoch 3/5\n",
      "100/100 [==============================] - 5s 50ms/step - loss: 0.3845 - accuracy: 0.8886 - val_loss: 0.3379 - val_accuracy: 0.8996 - val_matlab_accuracy: 0.9001\n",
      "Epoch 4/5\n",
      "100/100 [==============================] - 5s 51ms/step - loss: 0.3239 - accuracy: 0.9055 - val_loss: 0.2611 - val_accuracy: 0.9218 - val_matlab_accuracy: 0.9219\n",
      "Epoch 5/5\n",
      "100/100 [==============================] - 5s 49ms/step - loss: 0.2518 - accuracy: 0.9258 - val_loss: 0.2162 - val_accuracy: 0.9381 - val_matlab_accuracy: 0.9381\n"
     ]
    }
   ],
   "source": [
    "EPOCHS = 5\n",
    "history = custom_model.fit(x=train_images, y=train_labels, \n",
    "          batch_size=64, epochs = EPOCHS, steps_per_epoch = 100,\n",
    "          validation_data=(test_images, test_labels))\n"
   ]
  }
 ],
 "metadata": {
  "kernelspec": {
   "display_name": "env",
   "language": "python",
   "name": "env"
  },
  "language_info": {
   "codemirror_mode": {
    "name": "ipython",
    "version": 3
   },
   "file_extension": ".py",
   "mimetype": "text/x-python",
   "name": "python",
   "nbconvert_exporter": "python",
   "pygments_lexer": "ipython3",
   "version": "3.7.9"
  }
 },
 "nbformat": 4,
 "nbformat_minor": 4
}
